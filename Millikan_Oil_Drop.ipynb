{
  "nbformat": 4,
  "nbformat_minor": 0,
  "metadata": {
    "colab": {
      "provenance": []
    },
    "kernelspec": {
      "name": "python3",
      "display_name": "Python 3"
    },
    "language_info": {
      "name": "python"
    }
  },
  "cells": [
    {
      "cell_type": "code",
      "source": [
        "!pip install uncertainties"
      ],
      "metadata": {
        "colab": {
          "base_uri": "https://localhost:8080/"
        },
        "id": "We8iYagpDjeV",
        "outputId": "9b0a978d-6517-49e5-a372-17790b6c2e19"
      },
      "execution_count": 2,
      "outputs": [
        {
          "output_type": "stream",
          "name": "stdout",
          "text": [
            "Collecting uncertainties\n",
            "  Downloading uncertainties-3.2.2-py3-none-any.whl.metadata (6.9 kB)\n",
            "Downloading uncertainties-3.2.2-py3-none-any.whl (58 kB)\n",
            "\u001b[?25l   \u001b[90m━━━━━━━━━━━━━━━━━━━━━━━━━━━━━━━━━━━━━━━━\u001b[0m \u001b[32m0.0/58.3 kB\u001b[0m \u001b[31m?\u001b[0m eta \u001b[36m-:--:--\u001b[0m\r\u001b[2K   \u001b[90m━━━━━━━━━━━━━━━━━━━━━━━━━━━━━━━━━━━━━━━━\u001b[0m \u001b[32m58.3/58.3 kB\u001b[0m \u001b[31m3.0 MB/s\u001b[0m eta \u001b[36m0:00:00\u001b[0m\n",
            "\u001b[?25hInstalling collected packages: uncertainties\n",
            "Successfully installed uncertainties-3.2.2\n"
          ]
        }
      ]
    },
    {
      "cell_type": "code",
      "execution_count": 3,
      "metadata": {
        "id": "7bTtJ4ye4xRi"
      },
      "outputs": [],
      "source": [
        "import pandas as pd\n",
        "import numpy as np\n",
        "import os\n",
        "import matplotlib.pyplot as plt\n",
        "from uncertainties import ufloat\n",
        "from uncertainties.umath import sqrt"
      ]
    },
    {
      "cell_type": "code",
      "source": [
        "def remove_outliers(df, cols):\n",
        "    print(df)\n",
        "    if len(df[1]) == 1:\n",
        "        return df\n",
        "\n",
        "    filtered_df = df.copy()\n",
        "    for col in cols:\n",
        "        mu = filtered_df[col].mean()\n",
        "        sigma = filtered_df[col].std()\n",
        "        filtered_df = filtered_df[np.abs(filtered_df[col] - mu) <= 2 * sigma]\n",
        "\n",
        "    return filtered_df\n",
        "os.makedirs(\"raw_data\", exist_ok=True)\n",
        "\n",
        "files=os.listdir(os.path.join(\"raw_data/\"))\n",
        "\n",
        "# [pd.read_csv(files) for file in os.path.join( \"C:\",\"616\",\"DataCalculations\",\"DataCalculations\",\"raw_data\", file)]\n",
        "# Load data from CSV files into a list of DataFrames\n",
        "data = []\n",
        "for file in files:\n",
        "    data.append(pd.read_csv(os.path.join(\"raw_data\", file)))\n",
        "\n",
        "data = [remove_outliers(df, [\"neutral_fall_seconds\", \"charged_rise_seconds\"]) for df in data]\n"
      ],
      "metadata": {
        "colab": {
          "base_uri": "https://localhost:8080/",
          "height": 634
        },
        "id": "NQAPh8dDC0Hx",
        "outputId": "28a49185-3ec3-4782-d3c3-bb12a60428a4"
      },
      "execution_count": 12,
      "outputs": [
        {
          "output_type": "stream",
          "name": "stdout",
          "text": [
            "   trial  voltage_V  neutral_fall_seconds  charged_rise_seconds  \\\n",
            "0     16      512.3                  9.53                  1.36   \n",
            "\n",
            "   ionization_seconds       d  rho    g       eta       b         p  room_temp  \n",
            "0                 0.0  0.0076  886  9.8  0.000018  0.0082  101520.0         21  \n"
          ]
        },
        {
          "output_type": "error",
          "ename": "KeyError",
          "evalue": "1",
          "traceback": [
            "\u001b[0;31m---------------------------------------------------------------------------\u001b[0m",
            "\u001b[0;31mKeyError\u001b[0m                                  Traceback (most recent call last)",
            "\u001b[0;32m/usr/local/lib/python3.11/dist-packages/pandas/core/indexes/base.py\u001b[0m in \u001b[0;36mget_loc\u001b[0;34m(self, key)\u001b[0m\n\u001b[1;32m   3804\u001b[0m         \u001b[0;32mtry\u001b[0m\u001b[0;34m:\u001b[0m\u001b[0;34m\u001b[0m\u001b[0;34m\u001b[0m\u001b[0m\n\u001b[0;32m-> 3805\u001b[0;31m             \u001b[0;32mreturn\u001b[0m \u001b[0mself\u001b[0m\u001b[0;34m.\u001b[0m\u001b[0m_engine\u001b[0m\u001b[0;34m.\u001b[0m\u001b[0mget_loc\u001b[0m\u001b[0;34m(\u001b[0m\u001b[0mcasted_key\u001b[0m\u001b[0;34m)\u001b[0m\u001b[0;34m\u001b[0m\u001b[0;34m\u001b[0m\u001b[0m\n\u001b[0m\u001b[1;32m   3806\u001b[0m         \u001b[0;32mexcept\u001b[0m \u001b[0mKeyError\u001b[0m \u001b[0;32mas\u001b[0m \u001b[0merr\u001b[0m\u001b[0;34m:\u001b[0m\u001b[0;34m\u001b[0m\u001b[0;34m\u001b[0m\u001b[0m\n",
            "\u001b[0;32mindex.pyx\u001b[0m in \u001b[0;36mpandas._libs.index.IndexEngine.get_loc\u001b[0;34m()\u001b[0m\n",
            "\u001b[0;32mindex.pyx\u001b[0m in \u001b[0;36mpandas._libs.index.IndexEngine.get_loc\u001b[0;34m()\u001b[0m\n",
            "\u001b[0;32mpandas/_libs/hashtable_class_helper.pxi\u001b[0m in \u001b[0;36mpandas._libs.hashtable.PyObjectHashTable.get_item\u001b[0;34m()\u001b[0m\n",
            "\u001b[0;32mpandas/_libs/hashtable_class_helper.pxi\u001b[0m in \u001b[0;36mpandas._libs.hashtable.PyObjectHashTable.get_item\u001b[0;34m()\u001b[0m\n",
            "\u001b[0;31mKeyError\u001b[0m: 1",
            "\nThe above exception was the direct cause of the following exception:\n",
            "\u001b[0;31mKeyError\u001b[0m                                  Traceback (most recent call last)",
            "\u001b[0;32m<ipython-input-12-27bc4c0cb6ac>\u001b[0m in \u001b[0;36m<cell line: 0>\u001b[0;34m()\u001b[0m\n\u001b[1;32m     21\u001b[0m     \u001b[0mdata\u001b[0m\u001b[0;34m.\u001b[0m\u001b[0mappend\u001b[0m\u001b[0;34m(\u001b[0m\u001b[0mpd\u001b[0m\u001b[0;34m.\u001b[0m\u001b[0mread_csv\u001b[0m\u001b[0;34m(\u001b[0m\u001b[0mos\u001b[0m\u001b[0;34m.\u001b[0m\u001b[0mpath\u001b[0m\u001b[0;34m.\u001b[0m\u001b[0mjoin\u001b[0m\u001b[0;34m(\u001b[0m\u001b[0;34m\"raw_data\"\u001b[0m\u001b[0;34m,\u001b[0m \u001b[0mfile\u001b[0m\u001b[0;34m)\u001b[0m\u001b[0;34m)\u001b[0m\u001b[0;34m)\u001b[0m\u001b[0;34m\u001b[0m\u001b[0;34m\u001b[0m\u001b[0m\n\u001b[1;32m     22\u001b[0m \u001b[0;34m\u001b[0m\u001b[0m\n\u001b[0;32m---> 23\u001b[0;31m \u001b[0mdata\u001b[0m \u001b[0;34m=\u001b[0m \u001b[0;34m[\u001b[0m\u001b[0mremove_outliers\u001b[0m\u001b[0;34m(\u001b[0m\u001b[0mdf\u001b[0m\u001b[0;34m,\u001b[0m \u001b[0;34m[\u001b[0m\u001b[0;34m\"neutral_fall_seconds\"\u001b[0m\u001b[0;34m,\u001b[0m \u001b[0;34m\"charged_rise_seconds\"\u001b[0m\u001b[0;34m]\u001b[0m\u001b[0;34m)\u001b[0m \u001b[0;32mfor\u001b[0m \u001b[0mdf\u001b[0m \u001b[0;32min\u001b[0m \u001b[0mdata\u001b[0m\u001b[0;34m]\u001b[0m\u001b[0;34m\u001b[0m\u001b[0;34m\u001b[0m\u001b[0m\n\u001b[0m",
            "\u001b[0;32m<ipython-input-12-27bc4c0cb6ac>\u001b[0m in \u001b[0;36m<listcomp>\u001b[0;34m(.0)\u001b[0m\n\u001b[1;32m     21\u001b[0m     \u001b[0mdata\u001b[0m\u001b[0;34m.\u001b[0m\u001b[0mappend\u001b[0m\u001b[0;34m(\u001b[0m\u001b[0mpd\u001b[0m\u001b[0;34m.\u001b[0m\u001b[0mread_csv\u001b[0m\u001b[0;34m(\u001b[0m\u001b[0mos\u001b[0m\u001b[0;34m.\u001b[0m\u001b[0mpath\u001b[0m\u001b[0;34m.\u001b[0m\u001b[0mjoin\u001b[0m\u001b[0;34m(\u001b[0m\u001b[0;34m\"raw_data\"\u001b[0m\u001b[0;34m,\u001b[0m \u001b[0mfile\u001b[0m\u001b[0;34m)\u001b[0m\u001b[0;34m)\u001b[0m\u001b[0;34m)\u001b[0m\u001b[0;34m\u001b[0m\u001b[0;34m\u001b[0m\u001b[0m\n\u001b[1;32m     22\u001b[0m \u001b[0;34m\u001b[0m\u001b[0m\n\u001b[0;32m---> 23\u001b[0;31m \u001b[0mdata\u001b[0m \u001b[0;34m=\u001b[0m \u001b[0;34m[\u001b[0m\u001b[0mremove_outliers\u001b[0m\u001b[0;34m(\u001b[0m\u001b[0mdf\u001b[0m\u001b[0;34m,\u001b[0m \u001b[0;34m[\u001b[0m\u001b[0;34m\"neutral_fall_seconds\"\u001b[0m\u001b[0;34m,\u001b[0m \u001b[0;34m\"charged_rise_seconds\"\u001b[0m\u001b[0;34m]\u001b[0m\u001b[0;34m)\u001b[0m \u001b[0;32mfor\u001b[0m \u001b[0mdf\u001b[0m \u001b[0;32min\u001b[0m \u001b[0mdata\u001b[0m\u001b[0;34m]\u001b[0m\u001b[0;34m\u001b[0m\u001b[0;34m\u001b[0m\u001b[0m\n\u001b[0m",
            "\u001b[0;32m<ipython-input-12-27bc4c0cb6ac>\u001b[0m in \u001b[0;36mremove_outliers\u001b[0;34m(df, cols)\u001b[0m\n\u001b[1;32m      1\u001b[0m \u001b[0;32mdef\u001b[0m \u001b[0mremove_outliers\u001b[0m\u001b[0;34m(\u001b[0m\u001b[0mdf\u001b[0m\u001b[0;34m,\u001b[0m \u001b[0mcols\u001b[0m\u001b[0;34m)\u001b[0m\u001b[0;34m:\u001b[0m\u001b[0;34m\u001b[0m\u001b[0;34m\u001b[0m\u001b[0m\n\u001b[1;32m      2\u001b[0m     \u001b[0mprint\u001b[0m\u001b[0;34m(\u001b[0m\u001b[0mdf\u001b[0m\u001b[0;34m)\u001b[0m\u001b[0;34m\u001b[0m\u001b[0;34m\u001b[0m\u001b[0m\n\u001b[0;32m----> 3\u001b[0;31m     \u001b[0;32mif\u001b[0m \u001b[0mlen\u001b[0m\u001b[0;34m(\u001b[0m\u001b[0mdf\u001b[0m\u001b[0;34m[\u001b[0m\u001b[0;36m1\u001b[0m\u001b[0;34m]\u001b[0m\u001b[0;34m)\u001b[0m \u001b[0;34m==\u001b[0m \u001b[0;36m1\u001b[0m\u001b[0;34m:\u001b[0m\u001b[0;34m\u001b[0m\u001b[0;34m\u001b[0m\u001b[0m\n\u001b[0m\u001b[1;32m      4\u001b[0m         \u001b[0;32mreturn\u001b[0m \u001b[0mdf\u001b[0m\u001b[0;34m\u001b[0m\u001b[0;34m\u001b[0m\u001b[0m\n\u001b[1;32m      5\u001b[0m \u001b[0;34m\u001b[0m\u001b[0m\n",
            "\u001b[0;32m/usr/local/lib/python3.11/dist-packages/pandas/core/frame.py\u001b[0m in \u001b[0;36m__getitem__\u001b[0;34m(self, key)\u001b[0m\n\u001b[1;32m   4100\u001b[0m             \u001b[0;32mif\u001b[0m \u001b[0mself\u001b[0m\u001b[0;34m.\u001b[0m\u001b[0mcolumns\u001b[0m\u001b[0;34m.\u001b[0m\u001b[0mnlevels\u001b[0m \u001b[0;34m>\u001b[0m \u001b[0;36m1\u001b[0m\u001b[0;34m:\u001b[0m\u001b[0;34m\u001b[0m\u001b[0;34m\u001b[0m\u001b[0m\n\u001b[1;32m   4101\u001b[0m                 \u001b[0;32mreturn\u001b[0m \u001b[0mself\u001b[0m\u001b[0;34m.\u001b[0m\u001b[0m_getitem_multilevel\u001b[0m\u001b[0;34m(\u001b[0m\u001b[0mkey\u001b[0m\u001b[0;34m)\u001b[0m\u001b[0;34m\u001b[0m\u001b[0;34m\u001b[0m\u001b[0m\n\u001b[0;32m-> 4102\u001b[0;31m             \u001b[0mindexer\u001b[0m \u001b[0;34m=\u001b[0m \u001b[0mself\u001b[0m\u001b[0;34m.\u001b[0m\u001b[0mcolumns\u001b[0m\u001b[0;34m.\u001b[0m\u001b[0mget_loc\u001b[0m\u001b[0;34m(\u001b[0m\u001b[0mkey\u001b[0m\u001b[0;34m)\u001b[0m\u001b[0;34m\u001b[0m\u001b[0;34m\u001b[0m\u001b[0m\n\u001b[0m\u001b[1;32m   4103\u001b[0m             \u001b[0;32mif\u001b[0m \u001b[0mis_integer\u001b[0m\u001b[0;34m(\u001b[0m\u001b[0mindexer\u001b[0m\u001b[0;34m)\u001b[0m\u001b[0;34m:\u001b[0m\u001b[0;34m\u001b[0m\u001b[0;34m\u001b[0m\u001b[0m\n\u001b[1;32m   4104\u001b[0m                 \u001b[0mindexer\u001b[0m \u001b[0;34m=\u001b[0m \u001b[0;34m[\u001b[0m\u001b[0mindexer\u001b[0m\u001b[0;34m]\u001b[0m\u001b[0;34m\u001b[0m\u001b[0;34m\u001b[0m\u001b[0m\n",
            "\u001b[0;32m/usr/local/lib/python3.11/dist-packages/pandas/core/indexes/base.py\u001b[0m in \u001b[0;36mget_loc\u001b[0;34m(self, key)\u001b[0m\n\u001b[1;32m   3810\u001b[0m             ):\n\u001b[1;32m   3811\u001b[0m                 \u001b[0;32mraise\u001b[0m \u001b[0mInvalidIndexError\u001b[0m\u001b[0;34m(\u001b[0m\u001b[0mkey\u001b[0m\u001b[0;34m)\u001b[0m\u001b[0;34m\u001b[0m\u001b[0;34m\u001b[0m\u001b[0m\n\u001b[0;32m-> 3812\u001b[0;31m             \u001b[0;32mraise\u001b[0m \u001b[0mKeyError\u001b[0m\u001b[0;34m(\u001b[0m\u001b[0mkey\u001b[0m\u001b[0;34m)\u001b[0m \u001b[0;32mfrom\u001b[0m \u001b[0merr\u001b[0m\u001b[0;34m\u001b[0m\u001b[0;34m\u001b[0m\u001b[0m\n\u001b[0m\u001b[1;32m   3813\u001b[0m         \u001b[0;32mexcept\u001b[0m \u001b[0mTypeError\u001b[0m\u001b[0;34m:\u001b[0m\u001b[0;34m\u001b[0m\u001b[0;34m\u001b[0m\u001b[0m\n\u001b[1;32m   3814\u001b[0m             \u001b[0;31m# If we have a listlike key, _check_indexing_error will raise\u001b[0m\u001b[0;34m\u001b[0m\u001b[0;34m\u001b[0m\u001b[0m\n",
            "\u001b[0;31mKeyError\u001b[0m: 1"
          ]
        }
      ]
    },
    {
      "cell_type": "code",
      "source": [
        "# Compute charges with uncertainty\n",
        "charges = []\n",
        "# Check if 'data' is empty and handle accordingly\n",
        "if not data:  # or if len(data) == 0\n",
        "    print(\"Warning: 'data' is empty. No charges calculated.\")\n",
        "else:\n",
        "    for df in data:\n",
        "        d_lines = ufloat(0.5e-3, 0.1e-4)\n",
        "        vf = d_lines / df[\"neutral_fall_seconds\"].mean()\n",
        "        vr = d_lines / df[\"charged_rise_seconds\"].mean()\n",
        "\n",
        "        voltage_error = round(df[\"voltage_V\"].mean() * 0.0009 + 0.2, 1)\n",
        "        V = ufloat(df[\"voltage_V\"].mean(), voltage_error)\n",
        "        d = df[\"d\"].mean()\n",
        "        E = V / d\n",
        "\n",
        "        eta = df[\"eta\"].mean()\n",
        "        rho = df[\"rho\"].mean()\n",
        "        b = df[\"b\"].mean()\n",
        "        p = ufloat(df[\"p\"].mean(), 1000)\n",
        "\n",
        "        a = sqrt((b / (2*p))**2 + (9 * eta * vf) / (2 * df[\"g\"].mean() * rho)) - (b / (2*p))\n",
        "        m = (4/3) * np.pi * a.nominal_value**3 * rho\n",
        "        q = m * df[\"g\"].mean() * (vf + vr) / (E * vf)\n",
        "\n",
        "        charges.append(q)\n",
        "\n",
        "real_charge = 1.602e-19\n",
        "num_measurements = [len(df[\"neutral_fall_seconds\"]) for df in data]\n",
        "\n",
        "# Check if charges is empty before proceeding\n",
        "if charges:\n",
        "    charge_values = np.array([q.nominal_value for q in charges])\n",
        "    # Handle potential empty charge_values after filtering:\n",
        "    if len(charge_values) > 0:\n",
        "        normalized_charge = charges / min(charge_values)\n",
        "    else:\n",
        "        print(\"Warning: 'charge_values' is empty after filtering. Normalization skipped.\")\n",
        "        normalized_charge = np.nan  # or any other appropriate value\n",
        "\n",
        "    systematic_uncertainties = np.array([q.std_dev for q in charges])\n",
        "    statistical_uncertainties = 1e-19 / np.sqrt(num_measurements)\n",
        "    z_scores = (charge_values / normalized_charge - real_charge) / np.sqrt(statistical_uncertainties**2 + systematic_uncertainties**2)\n",
        "    chi_squared = np.sum(z_scores ** 2)\n",
        "\n",
        "    droplet_labels = [chr(65 + (i % 26)) + (chr(65 + (i // 26 - 1)) if i >= 26 else \"\") for i in range(len(charges))]\n",
        "\n",
        "    results_df = pd.DataFrame({\n",
        "        \"Droplet\": droplet_labels,\n",
        "        \"Charge (C)\": np.round(charge_values, 4),\n",
        "        \"# Charges\": np.round(normalized_charge, 4),\n",
        "        \"Statistical Uncertainty\": np.round(statistical_uncertainties, 4),\n",
        "        \"Systematic Uncertainty\": np.round(systematic_uncertainties, 4),\n",
        "        \"Z-Score\": np.round(z_scores, 4)\n",
        "    })\n",
        "\n",
        "    print(results_df)\n",
        "    print(f\"\\nΧ² = {chi_squared}\")\n",
        "else:\n",
        "    print(\"Warning: 'charges' is empty. No calculations performed.\")"
      ],
      "metadata": {
        "colab": {
          "base_uri": "https://localhost:8080/"
        },
        "id": "3eIaF5AsC0lZ",
        "outputId": "4f4e180e-6d8a-4750-d025-b4fee1bd10cd"
      },
      "execution_count": 11,
      "outputs": [
        {
          "output_type": "stream",
          "name": "stdout",
          "text": [
            "Warning: 'data' is empty. No charges calculated.\n",
            "Warning: 'charges' is empty. No calculations performed.\n"
          ]
        }
      ]
    },
    {
      "cell_type": "code",
      "source": [
        "# Plotting\n",
        "plt.figure(figsize=(8, 6))\n",
        "e = min(charge_values)\n",
        "scale = e * 1e19\n",
        "y_max_scaled = 1.629e-18 * 1e19 / scale\n",
        "\n",
        "plt.errorbar(normalized_charge[:6], charge_values[:6] / e, yerr=systematic_uncertainties[:6] / e,\n",
        "             fmt='o', label=\"Measured Charges, High Quality Data\")\n",
        "plt.errorbar(normalized_charge[6:], charge_values[6:] / e, yerr=systematic_uncertainties[6:] / e,\n",
        "             fmt='o', label=\"Measured Charges, Low Quality Data\", alpha=0.8)\n",
        "\n",
        "plt.scatter(range(1, 8), range(1, 8), label=\"Millikan's Data\", alpha=0.8)\n",
        "plt.axhline(y=1, color='gray', linestyle='--', alpha=0.3)\n",
        "plt.xlabel(\"Number of Charges\")\n",
        "plt.ylabel(\"Charge (elementary charge)\")\n",
        "plt.legend()\n",
        "plt.title(\"Number of Charges vs Charge\")\n",
        "plt.savefig(\"output_plot.png\")\n",
        "plt.show()"
      ],
      "metadata": {
        "id": "KgudJs-GC02f"
      },
      "execution_count": null,
      "outputs": []
    }
  ]
}